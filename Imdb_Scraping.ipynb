{
 "cells": [
  {
   "cell_type": "code",
   "execution_count": 1,
   "metadata": {},
   "outputs": [],
   "source": [
    "from  bs4 import BeautifulSoup as bs\n",
    "import requests\n",
    "import re"
   ]
  },
  {
   "cell_type": "code",
   "execution_count": 2,
   "metadata": {},
   "outputs": [],
   "source": [
    "headers = {'User-Agent': 'Mozilla/5.0 (Windows NT 6.1; WOW64) AppleWebKit/537.36 (KHTML, like Gecko) Chrome/56.0.2924.76 Safari/537.36'}"
   ]
  },
  {
   "cell_type": "code",
   "execution_count": 3,
   "metadata": {},
   "outputs": [],
   "source": [
    "url = 'https://www.imdb.com/find?q=inception&ref_=nv_sr_sm'"
   ]
  },
  {
   "cell_type": "code",
   "execution_count": 4,
   "metadata": {},
   "outputs": [],
   "source": [
    "webpage = requests.get(url, headers=headers).text\n",
    "soup = bs(webpage, 'lxml')"
   ]
  },
  {
   "cell_type": "code",
   "execution_count": 5,
   "metadata": {},
   "outputs": [],
   "source": [
    "res=soup.find_all('div',class_='findSection')"
   ]
  },
  {
   "cell_type": "code",
   "execution_count": 6,
   "metadata": {},
   "outputs": [],
   "source": [
    "res=res[0]"
   ]
  },
  {
   "cell_type": "code",
   "execution_count": 7,
   "metadata": {},
   "outputs": [
    {
     "name": "stdout",
     "output_type": "stream",
     "text": [
      "Inception (2010)\n",
      "Inception (2014) (Short)\n",
      "Inception (2017) (TV Episode)  - Season 1 | Episode 6  - La Scene en Plus (2017) (TV Mini-Series)\n",
      "Inception: The Cobol Job (2010) (Video)\n"
     ]
    }
   ],
   "source": [
    "for i in res.find_all('td', class_=\"result_text\"):\n",
    "    print((i.text).strip())"
   ]
  },
  {
   "cell_type": "code",
   "execution_count": 8,
   "metadata": {},
   "outputs": [
    {
     "name": "stdout",
     "output_type": "stream",
     "text": [
      "/title/tt1375666/?ref_=fn_al_tt_1\n",
      "/title/tt7321322/?ref_=fn_al_tt_2\n",
      "/title/tt6716336/?ref_=fn_al_tt_3\n",
      "/title/tt5295894/?ref_=fn_al_tt_4\n"
     ]
    }
   ],
   "source": [
    "##'a', href=re.compile(r'[/]([a-z]|[A-Z])\\w+')).attrs['href']\n",
    "for i in res.find_all('td', class_=\"result_text\"):\n",
    "    print((i.find('a', href=re.compile(r'[/]([a-z]|[A-Z])\\w+')).attrs['href']))\n"
   ]
  },
  {
   "cell_type": "code",
   "execution_count": null,
   "metadata": {},
   "outputs": [],
   "source": []
  },
  {
   "cell_type": "code",
   "execution_count": null,
   "metadata": {},
   "outputs": [],
   "source": []
  },
  {
   "cell_type": "code",
   "execution_count": 9,
   "metadata": {},
   "outputs": [],
   "source": [
    "def remove_special(text):\n",
    "    x = ''\n",
    "\n",
    "    for i in text:\n",
    "        if i.isalnum():\n",
    "            x = x + i\n",
    "        else:\n",
    "            x = x + ' '\n",
    "    return x"
   ]
  },
  {
   "cell_type": "code",
   "execution_count": 10,
   "metadata": {},
   "outputs": [],
   "source": [
    "def url_link(text):\n",
    "    clean = re.compile('/title/')\n",
    "    x = re.sub(clean, '', text)\n",
    "    i=0\n",
    "    res=''\n",
    "    while i<len(x):\n",
    "        if x[i]=='/':\n",
    "            break\n",
    "        else:\n",
    "            res+=x[i]\n",
    "        i=i+1\n",
    "    return res"
   ]
  },
  {
   "cell_type": "code",
   "execution_count": 11,
   "metadata": {},
   "outputs": [
    {
     "data": {
      "text/plain": [
       "'tt1375666'"
      ]
     },
     "execution_count": 11,
     "metadata": {},
     "output_type": "execute_result"
    }
   ],
   "source": [
    "url_link('/title/tt1375666/?ref_=fn_al_tt_1')"
   ]
  },
  {
   "cell_type": "code",
   "execution_count": null,
   "metadata": {},
   "outputs": [],
   "source": []
  },
  {
   "cell_type": "code",
   "execution_count": null,
   "metadata": {},
   "outputs": [],
   "source": []
  },
  {
   "cell_type": "code",
   "execution_count": 12,
   "metadata": {},
   "outputs": [],
   "source": [
    "def search_item(movie_name):\n",
    "    if len(movie_name)==0:\n",
    "        return \"Write Movie Name\"\n",
    "    else:\n",
    "        url = \"https://www.imdb.com/find?q=\" + movie_name + \"&ref_=nv_sr_sm\"\n",
    "        webpage = requests.get(url, headers=headers).text\n",
    "        soup = bs(webpage, 'lxml')\n",
    "        scr_res = soup.find_all('div', class_='findSection')\n",
    "        movies, url_movie_detail_link = [], []\n",
    "        for i in scr_res[0].find_all('td', class_=\"result_text\"):\n",
    "            movies.append((i.text).strip())\n",
    "            url_movie_detail_link.append(url_link(i.find('a', href=re.compile(r'[/]([a-z]|[A-Z])\\w+')).attrs['href']))\n",
    "\n",
    "        return movies, url_movie_detail_link"
   ]
  },
  {
   "cell_type": "code",
   "execution_count": 13,
   "metadata": {
    "scrolled": true
   },
   "outputs": [
    {
     "data": {
      "text/plain": [
       "(['Inception (2010)',\n",
       "  'Inception (2014) (Short)',\n",
       "  'Inception (2017) (TV Episode)  - Season 1 | Episode 6  - La Scene en Plus (2017) (TV Mini-Series)',\n",
       "  'Inception: The Cobol Job (2010) (Video)'],\n",
       " ['tt1375666', 'tt7321322', 'tt6716336', 'tt5295894'])"
      ]
     },
     "execution_count": 13,
     "metadata": {},
     "output_type": "execute_result"
    }
   ],
   "source": [
    "search_item('inception')"
   ]
  },
  {
   "cell_type": "code",
   "execution_count": 14,
   "metadata": {},
   "outputs": [],
   "source": [
    "m,code=search_item('dhoom')"
   ]
  },
  {
   "cell_type": "code",
   "execution_count": 15,
   "metadata": {},
   "outputs": [
    {
     "data": {
      "text/plain": [
       "['tt0422091', 'tt0441048', 'tt1833673', 'tt3239712']"
      ]
     },
     "execution_count": 15,
     "metadata": {},
     "output_type": "execute_result"
    }
   ],
   "source": [
    "code"
   ]
  },
  {
   "cell_type": "code",
   "execution_count": 16,
   "metadata": {},
   "outputs": [],
   "source": [
    "code=code[0]"
   ]
  },
  {
   "cell_type": "code",
   "execution_count": 17,
   "metadata": {},
   "outputs": [
    {
     "data": {
      "text/plain": [
       "'tt0422091'"
      ]
     },
     "execution_count": 17,
     "metadata": {},
     "output_type": "execute_result"
    }
   ],
   "source": [
    "code"
   ]
  },
  {
   "cell_type": "code",
   "execution_count": 18,
   "metadata": {},
   "outputs": [],
   "source": [
    "url1 = \"https://www.imdb.com/title/{}/?ref_=fn_tt_tt_1\".format(code)\n",
    "url2 = \"https://www.imdb.com/title/{}/reviews?ref_=tt_urv\".format(code)"
   ]
  },
  {
   "cell_type": "code",
   "execution_count": 19,
   "metadata": {},
   "outputs": [
    {
     "data": {
      "text/plain": [
       "'https://www.imdb.com/title/tt0422091/?ref_=fn_tt_tt_1'"
      ]
     },
     "execution_count": 19,
     "metadata": {},
     "output_type": "execute_result"
    }
   ],
   "source": [
    "url1"
   ]
  },
  {
   "cell_type": "code",
   "execution_count": 20,
   "metadata": {},
   "outputs": [
    {
     "data": {
      "text/plain": [
       "'https://www.imdb.com/title/tt0422091/reviews?ref_=tt_urv'"
      ]
     },
     "execution_count": 20,
     "metadata": {},
     "output_type": "execute_result"
    }
   ],
   "source": [
    "url2"
   ]
  },
  {
   "cell_type": "code",
   "execution_count": 21,
   "metadata": {},
   "outputs": [],
   "source": [
    "def movie_img(url):\n",
    "    ul=''\n",
    "    webpage=requests.get(url, headers= headers).text\n",
    "    soup=bs(webpage,'lxml')\n",
    "    for i in soup.find_all('div',class_='poster'):\n",
    "        ul = (i.find('img')).get('src')\n",
    "    return ul"
   ]
  },
  {
   "cell_type": "code",
   "execution_count": 22,
   "metadata": {},
   "outputs": [
    {
     "data": {
      "text/plain": [
       "'https://m.media-amazon.com/images/M/MV5BOTk3MDNhODEtMWYyMC00NmVjLTg3NzgtNjI1MzA4ZmVhMjE2XkEyXkFqcGdeQXVyNTkzNDQ4ODc@._V1_UY268_CR9,0,182,268_AL__QL50.jpg'"
      ]
     },
     "execution_count": 22,
     "metadata": {},
     "output_type": "execute_result"
    }
   ],
   "source": [
    "movie_img(url1)"
   ]
  },
  {
   "cell_type": "code",
   "execution_count": null,
   "metadata": {},
   "outputs": [],
   "source": []
  },
  {
   "cell_type": "code",
   "execution_count": 23,
   "metadata": {},
   "outputs": [],
   "source": [
    "def movie_plot(url):\n",
    "    plot=''\n",
    "    webpage=requests.get(url, headers= headers).text\n",
    "    soup=bs(webpage,'lxml')\n",
    "    for i in soup.find_all('div',class_='summary_text'):\n",
    "        if (((i.text).strip()=='Add a Plot »') or (len((i.text).strip())<15)):\n",
    "            plot = 'Not Available'\n",
    "        else:\n",
    "            plot = (i.text).strip()\n",
    "    return plot"
   ]
  },
  {
   "cell_type": "code",
   "execution_count": 24,
   "metadata": {},
   "outputs": [
    {
     "data": {
      "text/plain": [
       "\"A mysterious gang of bikers is on a robbing spree. ACP Jai gets Ali, a mechanic, to assist him in the case. With the clock ticking, it's up to them to nab the thieves red-handed.\""
      ]
     },
     "execution_count": 24,
     "metadata": {},
     "output_type": "execute_result"
    }
   ],
   "source": [
    "movie_plot(url1)"
   ]
  },
  {
   "cell_type": "code",
   "execution_count": 25,
   "metadata": {},
   "outputs": [],
   "source": [
    "def movie_details(url):\n",
    "    webpage = requests.get(url, headers=headers).text\n",
    "    soup = bs(webpage, 'lxml')\n",
    "    movie_name = ''\n",
    "    l = []\n",
    "    movie_rating = ''\n",
    "    for i in soup.find_all('h1', class_=\"\"):\n",
    "        movie_name = (remove_special(i.text).strip()).strip()\n",
    "    for i in soup.find_all('div', class_='ratingValue'):\n",
    "        movie_rating = (i.text).strip()\n",
    "\n",
    "    for i in soup.find_all('div', class_=\"credit_summary_item\"):\n",
    "        l.append(remove_special((i.text).strip()).strip())\n",
    "    s = []\n",
    "    f = []\n",
    "    val = 0\n",
    "    while val < len(l):\n",
    "        for i in l[val].split(' '):\n",
    "            if i == 'See':\n",
    "                break\n",
    "            else:\n",
    "                s.append(i.strip())\n",
    "                x = ' '.join(s)\n",
    "        f.append(x.strip())\n",
    "        s.clear()\n",
    "\n",
    "        val = val + 1\n",
    "\n",
    "    return movie_name, movie_rating, f"
   ]
  },
  {
   "cell_type": "code",
   "execution_count": 26,
   "metadata": {},
   "outputs": [
    {
     "data": {
      "text/plain": [
       "('Dhoom  2004',\n",
       " '6.7/10',\n",
       " ['Director  Sanjay Gadhvi',\n",
       "  'Writers  Vijay Krishna Acharya  dialogue   Vijay Krishna Acharya  screenplay',\n",
       "  'Stars  Abhishek Bachchan  John Abraham  Uday Chopra'])"
      ]
     },
     "execution_count": 26,
     "metadata": {},
     "output_type": "execute_result"
    }
   ],
   "source": [
    "movie_details(url1)  "
   ]
  },
  {
   "cell_type": "code",
   "execution_count": null,
   "metadata": {},
   "outputs": [],
   "source": []
  },
  {
   "cell_type": "code",
   "execution_count": 27,
   "metadata": {},
   "outputs": [],
   "source": [
    "def site_review(u):\n",
    "    page = requests.get(u, headers=headers).text\n",
    "\n",
    "    soup = bs(page, 'lxml')\n",
    "    pg = soup.find_all('div', class_='lister-item-content')\n",
    "\n",
    "    url_user_name, url_title, url_rating, url_reviews = [], [], [], []  ## content\n",
    "\n",
    "    for i in pg:\n",
    "        try:\n",
    "            url_title.append((i.find('a', class_=\"title\").text).strip())\n",
    "        except:\n",
    "            url_title.append('not available')\n",
    "        try:\n",
    "            url_rating.append((i.find('span', class_=\"rating-other-user-rating\").text).strip())\n",
    "        except:\n",
    "            url_rating.append('not available')\n",
    "        try:\n",
    "            url_user_name.append((i.find('span', class_=\"display-name-link\").text).strip())\n",
    "        except:\n",
    "            url_user_name.append('not available')\n",
    "        try:\n",
    "            url_reviews.append((i.find('div', class_=\"text show-more__control\").text).strip())\n",
    "        except:\n",
    "            url_reviews.append('not available')\n",
    "    return url_user_name, url_title, url_rating, url_reviews"
   ]
  },
  {
   "cell_type": "code",
   "execution_count": 28,
   "metadata": {},
   "outputs": [],
   "source": [
    "user_name,review_title,review_rating,review = site_review(url2)"
   ]
  },
  {
   "cell_type": "code",
   "execution_count": 30,
   "metadata": {},
   "outputs": [
    {
     "data": {
      "text/plain": [
       "['MR_Heraclius',\n",
       " 'AishFan',\n",
       " 'darashukoh',\n",
       " 'AvinashPatalay',\n",
       " 'Vishal_s_kumar',\n",
       " 'blooming_jasmine',\n",
       " 'Angelus2',\n",
       " 'deavenger',\n",
       " 'DVD_Connoisseur',\n",
       " 'tharukshan12',\n",
       " 'paulclaassen',\n",
       " 'morrison-dylan-fan',\n",
       " 'Manuja',\n",
       " 'raju2k84',\n",
       " 'freddiejason',\n",
       " 'tarjeiol-1',\n",
       " 'DICK STEEL',\n",
       " 'harvinderbanselis',\n",
       " 'macleod_lord',\n",
       " 'ishel',\n",
       " 'soumyadeep980',\n",
       " 'labeebster',\n",
       " 'suri_ramneek-2',\n",
       " 'sharath-04377',\n",
       " 'm_sebastian']"
      ]
     },
     "execution_count": 30,
     "metadata": {},
     "output_type": "execute_result"
    }
   ],
   "source": [
    "user_name"
   ]
  },
  {
   "cell_type": "code",
   "execution_count": 31,
   "metadata": {},
   "outputs": [
    {
     "data": {
      "text/plain": [
       "['Dhoom',\n",
       " 'Adrenaline rush - welcome to Bollywood!',\n",
       " \"Don't think and you might be entertained\",\n",
       " 'Fast and Furious in Bollywood',\n",
       " 'Zip!! Zap!! Zooooommmmmm!!!!!',\n",
       " \"Summary of The Fast and the Furious, Ocean's Eleven and some more action flicks + some Hindi movie masala\",\n",
       " \"There's no turning round! Dhoom Machale!!!!!!\",\n",
       " \"Surprising isn't it.\",\n",
       " 'Glossy, fast-moving and amusing action film',\n",
       " 'John steals the show...............',\n",
       " 'An absolute pleasure to watch.',\n",
       " 'The Dhoom series:Part 1.',\n",
       " '\"Dhoom\" is the genesis of the new \"Indian Action Film\"!',\n",
       " 'Dhoom is just for kids',\n",
       " 'Good action, good looking people, BAD acting',\n",
       " \"So bad it's funny\",\n",
       " 'A Nutshell Review: (DVD) Dhoom (2004)',\n",
       " 'Stupid Vs Style',\n",
       " 'Very entertaining',\n",
       " 'Hot, fast-paced and whimsical',\n",
       " 'Not Recommended 👎',\n",
       " 'An enjoyable movie which could have been better with a better cast',\n",
       " 'Time pass entertainment',\n",
       " 'Cool stuff',\n",
       " \"It's perfect for what it is!\"]"
      ]
     },
     "execution_count": 31,
     "metadata": {},
     "output_type": "execute_result"
    }
   ],
   "source": [
    "review_title"
   ]
  },
  {
   "cell_type": "code",
   "execution_count": 33,
   "metadata": {},
   "outputs": [
    {
     "data": {
      "text/plain": [
       "['7/10',\n",
       " '8/10',\n",
       " 'not available',\n",
       " 'not available',\n",
       " 'not available',\n",
       " 'not available',\n",
       " '8/10',\n",
       " '7/10',\n",
       " 'not available',\n",
       " '8/10',\n",
       " '6/10',\n",
       " '8/10',\n",
       " '8/10',\n",
       " 'not available',\n",
       " '10/10',\n",
       " '2/10',\n",
       " '8/10',\n",
       " '8/10',\n",
       " '10/10',\n",
       " '8/10',\n",
       " '1/10',\n",
       " '8/10',\n",
       " '5/10',\n",
       " '9/10',\n",
       " '9/10']"
      ]
     },
     "execution_count": 33,
     "metadata": {},
     "output_type": "execute_result"
    }
   ],
   "source": [
    "review_rating"
   ]
  },
  {
   "cell_type": "code",
   "execution_count": 34,
   "metadata": {},
   "outputs": [
    {
     "data": {
      "text/plain": [
       "(['7/10',\n",
       "  '8/10',\n",
       "  'not available',\n",
       "  'not available',\n",
       "  'not available',\n",
       "  'not available',\n",
       "  '8/10',\n",
       "  '7/10',\n",
       "  'not available',\n",
       "  '8/10',\n",
       "  '6/10',\n",
       "  '8/10',\n",
       "  '8/10',\n",
       "  'not available',\n",
       "  '10/10',\n",
       "  '2/10',\n",
       "  '8/10',\n",
       "  '8/10',\n",
       "  '10/10',\n",
       "  '8/10',\n",
       "  '1/10',\n",
       "  '8/10',\n",
       "  '5/10',\n",
       "  '9/10',\n",
       "  '9/10'],\n",
       " ['This is the first Bollywood action movie I have seen. It was outrageous! It reminded me of the first Fast and the Furious and The Transporter, which is probably the best you could hope for in a Bollywood action movie. There was also a fight scene on top of the trailer of an 18-wheeler extremely reminiscent of The Matrix Reloaded, which is not a good thing considering this movie is not set in a virtual reality. But its all in good fun. With hot actors, great music, and lots of comedy mixed in, this is great for the not-so-serious moviegoer.',\n",
       "  'High speed chases, extraordinary camera-work, wizardry technical effects, and sensuous bombshells - the thrilling \"sub-genre\" of adrenaline rush has to come to Bollywood with a bang! Hosting a cast of not-so impressive stars, the high-speed motorbikes sweep you off your seat. This is true Hollywood-style thrill. Mishcievious zoom-ins of scantily clad heroines add to the testosterone flavor of this film. A fantastic musical score with fast-paced beats spice things up even more. For the first time, Uday Chopra isn\\'t annoying. Maybe now, he\\'ll actually be able to get a role in a film not under his family\\'s banner. Abhishek is good except for a couple of scenes where he tries to act like his dad. Note to Abhishek: never attempt comedy. John Abraham, in his short role, is definitely the best of the cast. Esha Deol has a cool role. This is one of Bollywood\\'s best action productions!',\n",
       "  '****** SPOILERS FOLLOW - BEWARE******* Dhoom is very different from the standard Hindi film fare and combines glamor, action, and oodles of skin. It seems to have become somewhat of a cult film and the comments on this site seem highly appreciative. I may be one of the few dissenting notes here.I saw this movie last night on video - and I agree that it is better watched on the big screen. But what struck me was the complete suspension of disbelief - fairly standard in a Bollywood flick, but this one was trying to be more.Lets take the plot. A gang of pizza delivery boys use souped-up bikes to hijack armored bank trucks and carry out incredible heists. Would a accompanying police escort stop at a traffic light? - hello, its the police, they would switch on their siren and move to keep pace with the armored truck. Secondly, Where are these deserted highways close to Bombay/Mumbai where one can speed at 260kmph (150 miles per hour) and also find no other traffic? Third, the greatest strength of the police is their organization - numbers, skilled specialists etc. However, the hero, who vacillates between incompetence and retardation works alone, with a garage mechanic/motorcycle aficionado who is more hindrance than help. The rest of the police squad seem to be very nonchalant about the stakeouts - treating them more like some chore than the urgent action they are supposed to be. Fourth, after a warning is received, why would the Chief Minister\\'s charity organizers hold up the collection box with the money in full view of the public(and robbers)? Fifth, where do the robbers emerge from suddenly? - Why wouldn\\'t a large trailer truck be suspected and searched as a reasonable place to stow away bikes? Finally, what sort of moronic investigator reveals all his plans to the arrested suspect while \"taking a walk\" as if they were sauntering in Lodhi Gardens? Why didn\\'t he cuff the suspect(s)when he had them on camera? No complaints about skin and sex, but realistically, where does one find fishnet stocking clad girls (in the hundreds) rooting for bike-rider racers in Bombay? I mean if the theme is total fantasy then why have a plot at all - just a series of music videos with a few dollops of sex would have sufficed - oops, thats what it was anyway, right? I tend to be harsher on movies that pretend to have a plot, or be different. I daresay for large numbers of people Dhoom is a first in terms of action, cinematography, plot etc. It is highly different from the girl-marries-boy with wedding-spectacle of 3000 dancers. A tighter plot and some intelligence from the scriptwriters would have made this into a first-rate film.I think everyone acted well - and Abhishek seems fairly similar to his father 30 years ago. Uday Chopra played the nitwit pretty well, though again, why cast an imbecile as a crucial player? Surely, the police can find motorcycle specialists with moderately higher intelligence levels AND humor?',\n",
       "  'I had little respect for Sanjay Gadhvi after his futile attempt of making Bollywood version of highly adorable My Best Friends Wedding. But with Dhoom - he back on track. Its interesting to see Yashraj into Action-Thrillers who generally stick to love themes, proving they are developing into professional production houses. A good storyline filled with witty one-liners, good comic scenes, great songs, plenty of flesh and of course great action sequences - a perfect recipe for a masala Bollywood action. The pace of the movie is so good that you don\\'t want to leave your seat. Abshishek\\'s performance is good - within the boundaries of his can\\'s and cannot\\'s. Uday Chopra overacts. John Abraham fits the role to the \"T\". Heroines have small roles but oozing with sex-appeal (the action theme demands it - remember?). Abhishek-Uday combo is similar to 48 Hours and evokes good mirth.An entertaining fare from start to finish. Go watch it!!!',\n",
       "  'Dhoom!!!..... Blast!!!! Exactly what the movie is. It is a blast. It begins with style and keeps going... taking one on a roller coaster ride. Short movie with action-impact. The music is good... helps in taking the movie ahead. The editing is crisp. The photography is okays. The movie banks heavily on style and it delivers. The action sequences are the high-point and it does not disappoint.From frame one to the last it is riveting. Abhishek again induces confidence that he is someone to reckon with. His lines are crisp and well-delivered. Uday goes over-board with his buffoonery. John is pure style. The meanie. The girls (Rimi especially) has loads of oomph.Recommended Viewing for one and all!!',\n",
       "  \"It's a stylish, visually appealing movie. A weird mixture (off the top of my head) of The Fast and the Furious, Ocean's Eleven, Gone in 60 Seconds and probably much more. The chase on land and water is like right out of a Bond climax. I'd say the only good thing in the movie is Abhishek Bacchan. Was it necessary for the women to have close to no clothes on? Oh Well...I guess they had to throw in SOMETHING that was vintage Bollywood. At least they're not being sexist. John Abraham could use some clothes too. The poor fella. There wasn't a time when Uday Chopra was on screen that I didn't want to slap him silly. All in all, you don't wanna see a whole bunch of Hollywood action flicks? Here's your all in one. Got nothing better to do...I'd suggest watching this one.\",\n",
       "  'I watched the trailer of this movie while in Britian. Then I went on vacation, on the way back I saw a copy of Dhoom and thought why not?The trailers looked amazing. I was amazed and definitely shocked how bollywood could create something exciting for once by imitating a bunch of Hollywood movies.A gang have created a sophisticated way of robbing banks (with bikes) they are led by Kabir a confident and clever robber who likes a challenge. Kabir uses the highway as a getaway only robbing places that have a slip road next to them onto the highway, so he can hide in a lorry and then he works in pizza parlour, were no one would ever suspect him of robbing a bank. Jai Dixit, a police officer at the top of his game enlists the help of Ali a champion racer into catching these criminals. Soon a game of cat and mouse ensues as Jai and Kabir become \"FREINDS\".I was a fan of The Fast and the Furious so I was excited to see how bollywood could adapt that theme into the plot they used many different themes (OCEANS ELEVEN, TORQUE) and made a great movie. The action was okay, although it was fantasy most of it.The songs catching and were really cool and fun to watch and sing along..... especially the remixed version with Tata Young.Easha Deol looked extremely hot in this film I didn\\'t notice her much in the previous films simple because she wasn\\'t very attractive but this film definitely has changed her look and approach.Dhoom has opened my mind to other films of the Hollywood genre but I have since been disappointed I was looking forward to Krrish but that was a waste of time (only the fight in the warehouse was worth it) And Dhoom 2 wasn\\'t as good as 1 simple because they tried to cash in on the success of 1.Only if John Abraham returned.But all in all DHOOM IS A WILD EMOTION.',\n",
       "  \"Dhoom, bolleywood's action flick. I'm more with the drama or comedy in bolleywood, mostly because I hate to see a good action film become a musical. But this action/musical is an exception.Dhoom is about a hard-boiled cop who teams up with a cool rider from the streets to catch a thief who along with his gang to rob banks and armored trucks.This movie has some pretty mid tier action and could probably could have more action in it. But considering bolleywood, this is impressive. One of the best parts is the two girls they chose to play were pretty decent looking and good acting actresses. Not to mention the song Dhoom Dhoom is pretty good also.\",\n",
       "  'Cards on the table, here, \"Dhoom\" was my introduction to the delights of Bollywood cinema. \"Dhoom\"\\'s a genuinely enjoyable movie. It\\'s stylish and slick - I enjoyed the use of split screen at various points through the movie and the cinematography is glossy and polished. The film is quite amusing, it has some decent action sequences, the songs are likable and the pace is fast-moving.The cast are excellent. Abhishek Bachchan plays the cop, Jai Dixit, on the trail of professional thieves, lead by John Abraham. Dixit is aided by Ali Akbar (Uday Chopra), a thief, who provides the comic element to proceedings. Abraham is a superb baddie and provides a great foil to Bachchan\\'s character.The female cast are beautiful but provide little substance to the plot.Although one action sequence borrows heavily from \"The Matrix Reloaded\", the film is an enjoyable roller coaster and a great way to pass 2 hours on a rainy day.8 out of 10. A fun popcorn movie.',\n",
       "  \"As an Indian audience we have been craving for action movies these days since we experienced some spectacular action movies in Hollywood. As we thought, here comes a dashing and daring action film directed by sanjay. As it's theatrical trailer failed to create an impression upon us as well it's the first action film from yash raj films, most of us were not quite sure about dhoom. Upon it's release, i felt that it deserves more than we anticipated. Dhoom is an action thriller film which tells about the story of kabir, a calm and arrogant man attempts to loot a casino in goa and how his progess is retarded by a super cop jai and his fellow side kick Ali, a mechanic took from slums in order to associate jai in his case. Throughout the entire film action scenes were well shot as well tunic musics. Story of this film succeeds to keep us in edge by it's gripping screen play and thrilling background music by salim. In my point of view i personally felt that rimi sen shouldn't be in this film since her character in this movie is good though and in addition to that movie could have been even longer as action scenes and plot are very pleasing. In conclusion i would like to say that dhoom shouldn't be missed for any reason and it has all variety of entertainment as well as brilliant acting all over it. So go for it guys and have fun........Acting - Except abhishekh and rimi for john it's 9/10 Songs - 8/10 Story/Plot- 9/10\",\n",
       "  'Spectacular! Thoroughly entertaining and a visual feast! From the costumes to the action, dance and songs, this is one spectacular thrill-ride of an adventure! Vibrant and colorful, this was a pleasure to watch!',\n",
       "  \"After finding Dhoom 2 to be rather disappointing,I originally planned to not view the first one in the series,but got caught by surprise,when my dad revealed that he had recently picked up the first Dhoom on DVD for a whole £1!,which led to me getting ready to Dhoom again.The plot:With a biker gang having recently done a number of successful robberies,undercover cop officer Jai Dixit is given the task of unmasking the mysterious bikers.Checking for ant info on people who have recently taken part in illegal races,Dixit is able to track downer biker Ali Akbar Fateh Khan.Getting Khan to reveal all his secrets,Dixit gives Khan a get out of jail free card,which he will get if he is able to help arrest the biker gang.Finding himself with no other options left,Khan decides to get on the tracks with Dixit.View on the film:Whilst the movie does use The Fast And The Furious as a starting lap,director Sanjay Gadhvi shows remarkable foresight,in giving the title a tone that the Furious franchise would later take,thanks to Gadhvi giving the flick an excellent cartoon atmosphere,which goes from Dixit doing fighting moves in mid-air,to the biker gang being filled with snarling baddies.Along with the cartoon feel,Gadhvi also gives the film a slick,glossy appearance,which allows for the exciting biker stunt work, (most of which done without CGI) to be given a stylish flourish.Keeping the films 2 hour motor running,music director Pritam Chakraborty makes every song count,as the soundtrack goes from a grinding title track,to a hilarious ballad over Khan's eye for the ladies.Avoiding any filler sub-plots,the screenplay by Vijay Krishna Acharya keeps everything lean & mean,with Acharya keeping the bikers limited to a catchy one-liner,and building a warm buddy Comedy charm between Dixit & Khan,which helps to make this Dhoom one that is worth getting on the tracks for.\",\n",
       "  'The film starts with a bang, and ends with one.I was really impressed by the fast paced nature of this film.It was like watching \"The Fast & The Furious. It\\'s not the most realistic movie I have seen, but I believe the objective was not realism but entertainment,& when it comes to entertainment, Dhoom really delivers. The bikes were the stars of this film, and I believe this movie made the careers of Esha Deol and Rimi Sen, not to mention the exposure it bought for actors such as Abhishek Bachchan, Uday Chopra,and John Abraham who really impressed with the portrayal of the smart and smarmy thief you love to hate.I think \"Dhoom\" is a turning point in Indian cinema. It is a reversal to a style of movie making which saw the making of cult classics, such as Sholay, Namak Halaal and Don. Movies that have memorable characters and well crafted plot lines. Even though the above-mentioned films and Dhoom are not necessarily in the same genre, Dhoom will be a cult classic in the future. The beginning of the true \"Indian Action Film\", which has fast paced vehicles, cool and insightful criminals, and daring, intelligent, yet entertaining law enforcement.There are no \"over-blown\" sentiments. No revenge plot and no long lost Mother/Father/Sister/ Childhood sweetheart etc. The film concentrates on the moment it is in, and only involves people that need to be there. The story is executed with great economy. Nothing is superfluous. The dialog was appropriate, and amusing. The music catchy and memorable. No unnecessary songs and the dance sequences where well choreographed.You can always rely on Yash Raj Films to come up with the goods when it comes to production quality.The acting was good. Uday Chopra\\'s character Ali stole the show with his comic lines. The misadventures that he finds himself in the middle of, create a range of comic situations. The most touching scene he was in was the one where he asks Esha\\'s character if she could really shoot him? No jokes in sight, Ali is deadly serious for one moment in the film. Abhishek was great as the very serious and slightly anal detective \"Jai Dixit\".Jai is a man who first and foremost loves his job.The only exception to this is his wife Sweety.He can\\'t stand to loose, and this is what motivates him in his relentless pursuit of Kabir and his gang. John Abraham was cool and sexy as \"Kabir\".He\\'s very disciplined and goal orientated, and he expects the same from the people around him and will not suffer fools gladly. In this sense he and Jai are the same. Possibly the reason that they start enjoying the \"Cat and Mouse\" game that they indulge in through-out the film. The girls where good too.But served more as \"Eye candy\" than aything else!Who on earth knew that Esha could look like that?She\\'s really come a long way since her first few films,and she brings glamor to the role of sexy female thief.Newcomer Rimi is cute,and really suits the character Sweety.Her constant reversal to her native Bengali whenever she is emotionally disturbed made her character even funnier and more memorable.All in all, this movie is a 10 for entertainment value! Highly recommend it to anyone who loves action, or even comedy, because this movie has both in spades. It\\'s the fine balance between the two that has made Dhoom this successful, and having some sexy beautiful people and damn fine looking bikes don\\'t hurt! Can\\'t wait for the sequel!',\n",
       "  'This movie did not do anything for me, seriously, i was too annoyed by the background music in which the words \"Dhoom Dhoom\" were being echoed during every \"not so high speed\" chase sequence!Abhishek Bachchan tried to look ultra cool, but he couldn\\'t. John was cool but not properly utilized!Esha showed some nice legs and cleavage, but that\\'s all from her. She acts like a dead parrot.Seeing her, it is hard to believe that she is the daughter of Dharmendra or sister or Sunny or Bobby or Abhay Deol (Check out Abhay Deol and Ayesha Takia in \"Socha Na Tha\", one of the best bollywood romantic flicks, without that larger than life idiotic make-believe karan johar stuff).Uday was funny, his role should have been extended. And, the special effects looked like a puppet show!If u got kids, whom u would like to stay away from fast and the furious , let them see this !By the way, a sequel to this is under works and will have hrithik \"look at me, i\\'m so cool and stupid\" roshan and Aishwarya \"i won\\'t kiss bond, but no probs in kissing vivek\" Rai!',\n",
       "  'An action movie coming from Yash Chopra\\'s banner is a new one. The action scenes are really well executed for a Hindi movie. Except for the boat sequence in climax, the director almost pulls it off. Instead of going on and on about movie let me list the good the bad and the ugly: THE GOOD:- Music is good, Background music needs a special mention. Jon Abraham is terrific. The girls look good too. Rimi didn\\'t have anything but 2 songs and she doesn\\'t disappoint. Esha redeemed herself with the beach scene and who can deny that Tata Young is hot. Action on bikes is really cool and makes you wanna buy one of those machines.THE BAD:- Comedy is awful. I don\\'t know why people in India liked the comedy. Abhishek and Uday try to outdo each other in bad acting. Whole first half of the movie, Abhishek keeps asking Uday \"Chashma Utaroon Kya?\" I felt like asking, Chappal Maroon Kya? Climax fight was bad. Boat on the road? Uday and Abhishek chatting in the middle of a fight? terrible stuff.THE UGLY:- Abhishek and Uday both look awful in the movie. Cant they get someone good with better aesthetic sense to design something for them.All in all, movie was good fun to watch, specially because the last movie I watched was Asambhav:( I would watch Dhoom again, just for Jon Abraham. I didn\\'t like the guy when he first started acting in movies but he has not given a single performance I haven\\'t liked. Even in duds like Lakeer, he stands out as the best thing. Earlier, I didn\\'t like Esha either but as I said, she redeemed herself with her beach walk. Mallika and Neha can step aside, we have a Jatti on prowl.8/10',\n",
       "  'This movie basically seemed to me like a bad attempt to copy American action movies. I generally don\\'t like those movies and not knowing what I was getting to see I was hoping to see a real Indian movie. Instead it was this weird cultural-crash-movie. But that\\'s not the reason I didn\\'t like Dhoom.It\\'s because the whole movie is so bad it\\'s laughable. The dialogs are tacky (\"Thank you mummy. Yes very okay very okay\", etc), the story is predictable and boring, the actors are extremely bad and the cutting and special effects (or whatever you want to call it) are simple and pretentious. They have tried to make it \"cool\" but they fail so much it\\'s almost as sad and funny as watching Jackie Chan in City Hunter.',\n",
       "  \"Said to be loosely based on Taxi and Point Break, I thought Dhoom (Blast) seemed to be a whole lot more like the original Fast and the Furious, with a gang of robbers pulling of heists and escaping in their high octane machines charged with nitrous oxide gases, only this time, the sports cars are replaced with sports bikes. But unlike FnF which had its cop infiltrate the gang, we have a supercop hot on the heels of the gang with the help of the fastest rider in Mumbai, with shades from Taxi in a way.Abhishek Bachchan plays ACP Jai Dixit the supercop, a proud man dead sure of his abilities to apprehend the crooks, though himself has no qualms about meting out violence to deal with violence. John Abraham's Kabir looks like Tom Cruise's Ethan Hunt in M:I2 with his wavy hair flowing while riding a bike at top speed, and with his merry men from the Pizza Place, throws down the gauntlet at Jai. Rounding up the testosterone picture is Uday Chopra as the top biker and mechanic Ali Akbar Fateh Khan, who reluctantly joins forces with Jai Dixit, and gets embroiled against his wishes in this cops-and-robbers chase. He prefers to chase skirts, given his lack of appeal in the ladies department, and provides the complimentary comedic moments.The female characters here, with Rimi Sen as Mrs Dixit and Esha Deol the singer, somehow become bit players, with not much room for their characters, given that it's understandably an action movie after all. And the action doesn't disappoint even if it's not exactly A-list jaw- dropping material. There's always that tinge of familiarity, but the stars pull them off with aplomb. If you were to think they're copying their counterparts in Hollywood with vehicle stunts, and that fight atop a moving trailer which looks suspiciously like Matrix Reloaded's, well, if imitation is a form of flattery, at least Dhoom managed to come off rather convincingly.For a Bollywood movie, it clocks in at a surprisingly reasonable 129 minutes, and given its fast pace, there's rarely a moment where you'll get bored. I totally enjoyed Dhoom's soundtrack, and the song and dance numbers are fast ones which is an additional plus. I never cease to be amazed by the dance choreography, and my favourite one was where Dhoom Machale song being performed on stage, complete with pyrotechnics. Dhoom lives up to its name, and it's easy to have a blast of a time on a lazy Sunday afternoon with his, even though the story's pretty straightforward and rehashed from elements seen frequently from Hollywood. For someone who enjoys song and dance routines, I think I'll be looking towards covering more Bollywood movies real soon.\",\n",
       "  'This Film is like the conflict between the Stupid, Ali, and the Stylish, Jai Dixit and The Bandits, i must admit Esha Deol Adds the cherry on top in that element, this love, hate film is quite funny, just a few spoofs, when Jai Dixit says, what a waste of life, He hits the water, kind of obvious for the sequel right?Ali is a bit overdone, but u gotta love him in Dilbara, just want him to get the GIRL!!!As for Dhoom Machela, Esha Deol epitomises the whole film, stylish, with the stupid Ali butting in...I do like the beginning song though, very raunchy ;)',\n",
       "  'Most of you on here will say that this movie is unoriginal and blah blah blah. For my part I believe that for once there is a really entertaining movie. Watching a movie is about fun and entertainment. This movie is an action/comedy/romance/musical. It has everything in it and not at one point in the movie did I say to myself \"when does this movie end\". It\\'s fast paced, funny and full of action even if it\\'s nothing \"new\". Not disappointed one bit in this film.The movie takes place in Mumbai, but it is sort of a mix with Ocean\\'s Eleven, Taxi(French version) and a musical. No spoilers from me, just watch the movie it\\'s worth it!',\n",
       "  '\"Dhoom\" is in my opinion a delightful movie. I know it has features which many will \\'bag\\', such as predictability, stereotypical characterization and holes in the plot you could drive a truck through. BUT I went to see this movie wanting to be entertained, and I was so entertained that I went back and saw it a second time. It has action, romance, the wonderful dance sequences that Bollywood is famous for, colour, music and general excitement. I just loved Uday Chopra\\'s character, who combines both tough guy and fully man so effectively. The main lead, \\'Jai\\', is a little flat at times but he mainly provides the opportunity for others to \\'do their thing\\'.Rimii Sen as his wife, delightfully named Sweety, is gorgeous, and I love the way she controls some of the details of Jai\\'s life; and Esha Deol as the mystery woman (I won\\'t throw in any spoilers!) is also beautiful and engaging - her dance in the rain when her car breaks down is absolutely delicious, and the director hasn\\'t wasted any opportunity to make the most of Esha\\'s physical charms! The music is a highlight, and the credits track \"Dhoom Dhoom\" by Thai-American Tata Young, who has just released her first English language album, is fast and hot, with the added advantage that while the song is playing and the credits are showing, what I presume is the video clip showing a ravishing Tata Young gyrating her way through various sexy situations is a lovely bonus. Overall, it\\'s a great bit of fun not to be taken too seriously!',\n",
       "  'Eventho his movie is 16yrs old but still very poorly made.',\n",
       "  \"A very enjoyable movie with thrills and fun. I'm not a huge fan of the cast other than John but strangely even he was at times expressionless in this movie. On the other hand, Uday (who's also not my fav actor) was the best of all. The plot was interesting and I liked it that the main character was always a step ahead of the second main character. Looking forward to watching part 2.\",\n",
       "  'Rating5/10Bollywood version of Fast and Furious on bikes is average time pass entertainment. Story is just an excuse for action and races. Watchable if you are in the mood.',\n",
       "  \"Dhoom created a trend in Indian cinema. Considering the plot it could have been little better as it wasn't that tough for thief getting caught but still actions really define the movie. Worth watching!!\",\n",
       "  \"It's Bollywood meets Fast and Furious meets Ocean's Eleven meets Rush Hour with wink and nods to James Bond complete with ridiculous and elaborate song and dance numbers. Don't take it or yourself too seriously and a good time will be had watching this film.\"])"
      ]
     },
     "execution_count": 34,
     "metadata": {},
     "output_type": "execute_result"
    }
   ],
   "source": [
    "review_rating,review"
   ]
  },
  {
   "cell_type": "code",
   "execution_count": null,
   "metadata": {},
   "outputs": [],
   "source": []
  }
 ],
 "metadata": {
  "kernelspec": {
   "display_name": "Python 3",
   "language": "python",
   "name": "python3"
  },
  "language_info": {
   "codemirror_mode": {
    "name": "ipython",
    "version": 3
   },
   "file_extension": ".py",
   "mimetype": "text/x-python",
   "name": "python",
   "nbconvert_exporter": "python",
   "pygments_lexer": "ipython3",
   "version": "3.7.3"
  }
 },
 "nbformat": 4,
 "nbformat_minor": 2
}
